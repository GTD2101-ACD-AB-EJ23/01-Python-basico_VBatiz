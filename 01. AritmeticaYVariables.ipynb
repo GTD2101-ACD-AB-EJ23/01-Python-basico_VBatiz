{
  "cells": [
    {
      "attachments": {},
      "cell_type": "markdown",
      "metadata": {},
      "source": [
        "# Aritmética y Variables\n",
        "\n",
        "En este JNB se revisará el tema de Aritmética y Variables"
      ]
    },
    {
      "cell_type": "code",
      "execution_count": 2,
      "metadata": {
        "id": "O8NoTzxjs2wK",
        "outputId": "fa4bc249-a4fa-48a6-9dc6-7733646ed223"
      },
      "outputs": [
        {
          "name": "stdout",
          "output_type": "stream",
          "text": [
            "Hello \n",
            "World!\n"
          ]
        }
      ],
      "source": [
        "print(\"Hello \\nWorld!\")"
      ]
    },
    {
      "attachments": {},
      "cell_type": "markdown",
      "metadata": {},
      "source": [
        "Si queremos imprimir un texto con varias líneas podemos usar triples comillas:"
      ]
    },
    {
      "cell_type": "code",
      "execution_count": 3,
      "metadata": {},
      "outputs": [
        {
          "name": "stdout",
          "output_type": "stream",
          "text": [
            "Hola este es un texto\n",
            "que tiene varias líneas.\n",
            "Python es poderoso\n"
          ]
        }
      ],
      "source": [
        "texto = '''Hola este es un texto\n",
        "que tiene varias líneas.\n",
        "Python es poderoso'''\n",
        "print(texto)"
      ]
    },
    {
      "attachments": {},
      "cell_type": "markdown",
      "metadata": {},
      "source": [
        "Imprimiendo comillas dentro de comillas."
      ]
    },
    {
      "cell_type": "code",
      "execution_count": 5,
      "metadata": {},
      "outputs": [
        {
          "name": "stdout",
          "output_type": "stream",
          "text": [
            "John O'Brien\n",
            "El curso está \"difícil\"\n"
          ]
        }
      ],
      "source": [
        "print(\"John O'Brien\")\n",
        "print('El curso está \"difícil\"')"
      ]
    },
    {
      "attachments": {},
      "cell_type": "markdown",
      "metadata": {},
      "source": [
        "## Comentarios.\n",
        "### en Python\n",
        "Para colocar comentarios en Python usar el símbolo #."
      ]
    },
    {
      "cell_type": "code",
      "execution_count": 7,
      "metadata": {},
      "outputs": [
        {
          "name": "stdout",
          "output_type": "stream",
          "text": [
            "El curso está \"difícil\"\n",
            "El curso está \"difícil\", mi nombre es John O'Brien\n"
          ]
        }
      ],
      "source": [
        "\"\"\" La siguiente instrucción imprime un texto utilizando f-string.\n",
        "otra línea\n",
        "linea 3 \"\"\"\n",
        "nombre = \"John\"\n",
        "apellido = \"O'Brien\"\n",
        "print(f\"El curso está \\\"difícil\\\"\")\n",
        "print(f\"El curso está \\\"difícil\\\", mi nombre es {nombre} {apellido}\")"
      ]
    },
    {
      "attachments": {},
      "cell_type": "markdown",
      "metadata": {},
      "source": [
        "## Variables."
      ]
    },
    {
      "cell_type": "code",
      "execution_count": 9,
      "metadata": {},
      "outputs": [
        {
          "name": "stdout",
          "output_type": "stream",
          "text": [
            "<class 'int'>\n",
            "<class 'str'>\n"
          ]
        }
      ],
      "source": [
        "anios = 20\n",
        "nombre = \"John Wick\"\n",
        "print(type(anios))\n",
        "print(type(nombre))"
      ]
    }
  ],
  "metadata": {
    "colab": {
      "include_colab_link": true,
      "provenance": []
    },
    "kernelspec": {
      "display_name": "Python 3",
      "language": "python",
      "name": "python3"
    },
    "language_info": {
      "codemirror_mode": {
        "name": "ipython",
        "version": 3
      },
      "file_extension": ".py",
      "mimetype": "text/x-python",
      "name": "python",
      "nbconvert_exporter": "python",
      "pygments_lexer": "ipython3",
      "version": "3.10.4"
    },
    "orig_nbformat": 4,
    "vscode": {
      "interpreter": {
        "hash": "3ad933181bd8a04b432d3370b9dc3b0662ad032c4dfaa4e4f1596c548f763858"
      }
    }
  },
  "nbformat": 4,
  "nbformat_minor": 0
}
